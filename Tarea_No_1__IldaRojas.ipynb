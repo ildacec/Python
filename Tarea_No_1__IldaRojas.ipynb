{
  "nbformat": 4,
  "nbformat_minor": 0,
  "metadata": {
    "colab": {
      "name": "Tarea_No_1__IldaRojas.ipynb",
      "provenance": [],
      "include_colab_link": true
    },
    "kernelspec": {
      "name": "python3",
      "display_name": "Python 3"
    },
    "language_info": {
      "name": "python"
    }
  },
  "cells": [
    {
      "cell_type": "markdown",
      "metadata": {
        "id": "view-in-github",
        "colab_type": "text"
      },
      "source": [
        "<a href=\"https://colab.research.google.com/github/ildacec/Python/blob/main/Tarea_No_1__IldaRojas.ipynb\" target=\"_parent\"><img src=\"https://colab.research.google.com/assets/colab-badge.svg\" alt=\"Open In Colab\"/></a>"
      ]
    },
    {
      "cell_type": "markdown",
      "metadata": {
        "id": "5VCKF5gtAd0b"
      },
      "source": [
        "TAREA NO. 1\n",
        "\n",
        "NOMBRE: ILDA ROJAS\n"
      ]
    },
    {
      "cell_type": "code",
      "metadata": {
        "id": "VD6e5q3T1lVB"
      },
      "source": [
        "import numpy as np"
      ],
      "execution_count": 1,
      "outputs": []
    },
    {
      "cell_type": "markdown",
      "metadata": {
        "id": "9-SDU8492J-0"
      },
      "source": [
        "1. Escribe una función de Python para encontrar el máximo de tres\n",
        "números."
      ]
    },
    {
      "cell_type": "code",
      "metadata": {
        "colab": {
          "base_uri": "https://localhost:8080/"
        },
        "id": "nj6naMDm2HaH",
        "outputId": "a1e2c851-d4bd-424a-c458-6cdc234a9cd8"
      },
      "source": [
        "numero1 = input(\"Introduce el número \")\n",
        "numero2 = input(\"Introduce el número \")\n",
        "numero3 = input(\"Introduce el número \")\n",
        "\n",
        "if numero2 < numero1 > numero3:\n",
        "  print(\"Mayor:\", numero1)\n",
        "elif numero1 < numero2 > numero3:\n",
        "  print(\"Mayor:\", numero2)\n",
        "elif numero1 < numero3 > numero2:\n",
        "  print(\"Mayor:\", numero3)\n"
      ],
      "execution_count": null,
      "outputs": [
        {
          "output_type": "stream",
          "name": "stdout",
          "text": [
            "Introduce el número 2\n",
            "Introduce el número 9\n",
            "Introduce el número 5\n",
            "Mayor: 9\n"
          ]
        }
      ]
    },
    {
      "cell_type": "markdown",
      "metadata": {
        "id": "Gb6bvoNZ4amR"
      },
      "source": [
        "2. Escribe una función de Python para sumar todos los números en una\n",
        "lista.\n",
        "Lista de muestra : (8, 2, 3, 0, 7)\n",
        "Resultado esperado : 20"
      ]
    },
    {
      "cell_type": "code",
      "metadata": {
        "colab": {
          "base_uri": "https://localhost:8080/"
        },
        "id": "4AzlyVBC4eCX",
        "outputId": "431d65d0-db47-4640-b62a-2512a6e91402"
      },
      "source": [
        "my_list = [8, 2, 3, 0, 7]\n",
        "sum_i = 0\n",
        "\n",
        "for i in my_list: \n",
        "  sum_i = sum_i + i\n",
        "\n",
        "print(\"Resultado: \", sum_i)\n"
      ],
      "execution_count": null,
      "outputs": [
        {
          "output_type": "stream",
          "name": "stdout",
          "text": [
            "Resultado:  20\n"
          ]
        }
      ]
    },
    {
      "cell_type": "markdown",
      "metadata": {
        "id": "HUwvAih-5BKx"
      },
      "source": [
        "3 . Escribe una función de Python para multiplicar todos los números en\n",
        "una lista.\n",
        "Lista de muestra : (8, 2, 3, -1, 7)\n",
        "\n",
        "Resultado esperado : -336"
      ]
    },
    {
      "cell_type": "code",
      "metadata": {
        "colab": {
          "base_uri": "https://localhost:8080/"
        },
        "id": "XcbdFTcP5Fc5",
        "outputId": "528cc100-307e-43c2-cd09-4fd8d646dc0c"
      },
      "source": [
        "my_list = [8, 2, 3, -1, 7]\n",
        "mul_i = 1\n",
        "\n",
        "for i in my_list: \n",
        "  mul_i = mul_i * i\n",
        "\n",
        "print(\"Resultado: \", mul_i)"
      ],
      "execution_count": null,
      "outputs": [
        {
          "output_type": "stream",
          "name": "stdout",
          "text": [
            "Resultado:  -336\n"
          ]
        }
      ]
    },
    {
      "cell_type": "markdown",
      "metadata": {
        "id": "Ic1qZt-B5er5"
      },
      "source": [
        "4. Escriba un programa en Python para invertir una cadena.\n",
        "Cadena de muestra : \"1234abcd\"\n",
        "Salida esperada : \"dcba4321\"\n"
      ]
    },
    {
      "cell_type": "code",
      "metadata": {
        "colab": {
          "base_uri": "https://localhost:8080/"
        },
        "id": "3Xo87Pb35izr",
        "outputId": "da775c97-6645-499c-f76f-d74894510739"
      },
      "source": [
        "a = '1234abcd'\n",
        "b = a[::-1]\n",
        "\n",
        "print (b)"
      ],
      "execution_count": null,
      "outputs": [
        {
          "output_type": "stream",
          "name": "stdout",
          "text": [
            "dcba4321\n"
          ]
        }
      ]
    },
    {
      "cell_type": "markdown",
      "metadata": {
        "id": "zQd3twx66h-G"
      },
      "source": [
        "5. Escriba una función de Python que tome una lista y devuelva una nueva\n",
        "lista con elementos únicos de la primera lista.\n",
        "lista de muestras: [1,2,3,3,3,3,4,5]\n",
        "Lista Única: [1, 2, 3, 4, 5]\n"
      ]
    },
    {
      "cell_type": "code",
      "metadata": {
        "colab": {
          "base_uri": "https://localhost:8080/"
        },
        "id": "okRL3QmP6m_E",
        "outputId": "5a0273e3-c38a-4dfd-eadf-fbcaa1997394"
      },
      "source": [
        "my_list1 = [1,2,3,3,3,3,4,5] \n",
        "\n",
        "my_list_unic = list(dict.fromkeys(my_list1))\n",
        "print (my_list_unic)"
      ],
      "execution_count": null,
      "outputs": [
        {
          "output_type": "stream",
          "name": "stdout",
          "text": [
            "[1, 2, 3, 4, 5]\n"
          ]
        }
      ]
    },
    {
      "cell_type": "markdown",
      "metadata": {
        "id": "gUWy1MLn7RVv"
      },
      "source": [
        "6. Escriba una función de Python que tome un número como parámetro y\n",
        "verifique que el número sea primo o no.\n",
        "Nota: Un número primo (o primo) es un número natural mayor que 1 y\n",
        "que no tiene divisores positivos distintos de 1 y él mismo.\n",
        "\n"
      ]
    },
    {
      "cell_type": "code",
      "metadata": {
        "colab": {
          "base_uri": "https://localhost:8080/"
        },
        "id": "oTJp9wNt7XnD",
        "outputId": "5286aad2-e074-46b6-a87c-1c419d1c15b9"
      },
      "source": [
        "numero  = int(input(\"Introduce el número: \"))\n",
        "primo = 0\n",
        "\n",
        "for n in range(2, numero):\n",
        "    if numero % n == 0:\n",
        "        primo = primo + 1\n",
        "\n",
        "\n",
        "if primo > 0: \n",
        "  print(\"No es primo\")\n",
        "else:\n",
        "  print(\"Es primo\")\n"
      ],
      "execution_count": null,
      "outputs": [
        {
          "output_type": "stream",
          "name": "stdout",
          "text": [
            "Introduce el número: 12\n",
            "No es primo\n"
          ]
        }
      ]
    },
    {
      "cell_type": "markdown",
      "metadata": {
        "id": "wwmJkcQr7WK4"
      },
      "source": [
        "7. Escriba un programa en Python para imprimir los números pares de una\n",
        "lista dada.\n",
        "Lista de muestra : [1, 2, 3, 4, 5, 6, 7, 8, 9]\n",
        "Resultado esperado : [2, 4, 6, 8]"
      ]
    },
    {
      "cell_type": "code",
      "metadata": {
        "colab": {
          "base_uri": "https://localhost:8080/"
        },
        "id": "YTHkr26t7Zqh",
        "outputId": "094fd503-d1de-4393-b70b-096f293fd88b"
      },
      "source": [
        "my_list1 = [1, 2, 3, 4, 5, 6, 7, 8, 9] \n",
        "pares = []\n",
        "no_pares = []\n",
        "\n",
        "for n in my_list1:\n",
        "    if n % 2 == 0:\n",
        "        pares.append(n)\n",
        "    else:\n",
        "        no_pares.append(n)\n",
        "    \n",
        "\n",
        "print (pares)"
      ],
      "execution_count": null,
      "outputs": [
        {
          "output_type": "stream",
          "name": "stdout",
          "text": [
            "[2, 4, 6, 8]\n"
          ]
        }
      ]
    }
  ]
}