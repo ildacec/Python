{
  "nbformat": 4,
  "nbformat_minor": 0,
  "metadata": {
    "colab": {
      "provenance": [],
      "authorship_tag": "ABX9TyNv10Oiiju+DPMo6nUlYITn",
      "include_colab_link": true
    },
    "kernelspec": {
      "name": "python3",
      "display_name": "Python 3"
    },
    "language_info": {
      "name": "python"
    }
  },
  "cells": [
    {
      "cell_type": "markdown",
      "metadata": {
        "id": "view-in-github",
        "colab_type": "text"
      },
      "source": [
        "<a href=\"https://colab.research.google.com/github/ildacec/Python/blob/main/QuizPython_20230222.ipynb\" target=\"_parent\"><img src=\"https://colab.research.google.com/assets/colab-badge.svg\" alt=\"Open In Colab\"/></a>"
      ]
    },
    {
      "cell_type": "markdown",
      "source": [
        "#What is the output of this Code?\n",
        "\n",
        "Using user functions"
      ],
      "metadata": {
        "id": "20573M2bmu4B"
      }
    },
    {
      "cell_type": "code",
      "execution_count": 1,
      "metadata": {
        "colab": {
          "base_uri": "https://localhost:8080/"
        },
        "id": "I6ewmNQPk7rL",
        "outputId": "9f46671d-2e19-4ef6-d991-13ff5ae420d0"
      },
      "outputs": [
        {
          "output_type": "stream",
          "name": "stdout",
          "text": [
            "65536\n"
          ]
        }
      ],
      "source": [
        "def funcion(val1, val2 = 2, val3=7, val4= 1):\n",
        "  return val1**val2**val3\n",
        "\n",
        "print(funcion(val2 = 2,val1 = 2, val3=4))"
      ]
    }
  ]
}