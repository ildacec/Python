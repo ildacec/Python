{
  "nbformat": 4,
  "nbformat_minor": 0,
  "metadata": {
    "colab": {
      "provenance": [],
      "authorship_tag": "ABX9TyP3vFbeU5EwZR0bLFCL+pZR",
      "include_colab_link": true
    },
    "kernelspec": {
      "name": "python3",
      "display_name": "Python 3"
    },
    "language_info": {
      "name": "python"
    }
  },
  "cells": [
    {
      "cell_type": "markdown",
      "metadata": {
        "id": "view-in-github",
        "colab_type": "text"
      },
      "source": [
        "<a href=\"https://colab.research.google.com/github/ildacec/Python/blob/main/QuizPython_20230303.ipynb\" target=\"_parent\"><img src=\"https://colab.research.google.com/assets/colab-badge.svg\" alt=\"Open In Colab\"/></a>"
      ]
    },
    {
      "cell_type": "markdown",
      "source": [
        "# Quiz 20230303\n",
        "Pyladies Panamá"
      ],
      "metadata": {
        "id": "8ZItD9f931iI"
      }
    },
    {
      "cell_type": "code",
      "execution_count": 8,
      "metadata": {
        "colab": {
          "base_uri": "https://localhost:8080/"
        },
        "id": "Aye-ZQI13uij",
        "outputId": "00eaf78f-0b7e-4fdb-d5a3-a0e886486115"
      },
      "outputs": [
        {
          "output_type": "stream",
          "name": "stdout",
          "text": [
            "[5 4 3 2 1]\n"
          ]
        }
      ],
      "source": [
        "'''What is the correct way to create a 1D Numpy array from a list in Python?'''\n",
        "import numpy as np\n",
        "\n",
        "option_1 = np.array([5,4,3,2,1])  #Opción Correcta!!!\n",
        "#option_2 = np.array(5,4,3,2,1)   #tampoco es! \n",
        "#option_3 = np.array(5 4 3 2 1)  #definitivo que esta opción no es!  Da error\n",
        "#option_4 = np.array(5;4;3;2;1)  #definitivo que esta opción no es! Da error\n",
        "\n",
        "\n",
        "print(option_1)\n",
        "#print(option_2)\n",
        "#print(option_3)\n",
        "#print(option_4)\n"
      ]
    }
  ]
}